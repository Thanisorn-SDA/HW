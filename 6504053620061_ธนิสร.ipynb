{
  "nbformat": 4,
  "nbformat_minor": 0,
  "metadata": {
    "colab": {
      "provenance": []
    },
    "kernelspec": {
      "name": "python3",
      "display_name": "Python 3"
    },
    "language_info": {
      "name": "python"
    }
  },
  "cells": [
    {
      "cell_type": "code",
      "source": [
        "import random\n",
        "\n",
        "def count_success_runs(n, p):\n",
        "    #สร้างลำดับการทดลองเบอร์นูลลี่ (n trials)\n",
        "    trials = [1 if random.random() < p else 0 for _ in range(n)]\n",
        "\n",
        "    # success runs\n",
        "    run_lengths = {}  #เก็บจำนวนของ success run\n",
        "    current_run_length = 0\n",
        "\n",
        "    for trial in trials:\n",
        "        if trial == 1:  # เงื่อนไขถ้าเป็น Success\n",
        "            current_run_length += 1\n",
        "        else:  #ถ้าเป็น Failure\n",
        "            if current_run_length > 0:\n",
        "                run_lengths[current_run_length] = run_lengths.get(current_run_length, 0) + 1\n",
        "            current_run_length = 0  # รีเซ็ต run เมื่อเจอ Failure\n",
        "\n",
        "    #ลำดับการทดลองจบลงด้วย Success run\n",
        "    if current_run_length > 0:\n",
        "        run_lengths[current_run_length] = run_lengths.get(current_run_length, 0) + 1\n",
        "\n",
        "    return run_lengths\n",
        "\n",
        "n = 100  # จำนวนการทดลองทั้งหมด\n",
        "p = 0.3  # ความน่าจะเป็นของ Success ในแต่ละการทดลอง\n",
        "result = count_success_runs(n, p)\n",
        "print(result)\n"
      ],
      "metadata": {
        "colab": {
          "base_uri": "https://localhost:8080/"
        },
        "id": "QJDUE32IBa-U",
        "outputId": "c4a2e77a-65e0-4aa9-c39d-d65ac762b579"
      },
      "execution_count": null,
      "outputs": [
        {
          "output_type": "stream",
          "name": "stdout",
          "text": [
            "{2: 5, 1: 14, 4: 1, 3: 3}\n"
          ]
        }
      ]
    },
    {
      "cell_type": "code",
      "source": [
        "import random\n",
        "from collections import Counter\n",
        "\n",
        "def count_runs(trials):\n",
        "    run_lengths = []\n",
        "    current_run_length = 0\n",
        "    for trial in trials:\n",
        "        if trial == 1:  # Success\n",
        "            current_run_length += 1\n",
        "        else:  # Failure\n",
        "            if current_run_length > 0:\n",
        "                run_lengths.append(current_run_length)\n",
        "            current_run_length = 0\n",
        "    if current_run_length > 0:\n",
        "        run_lengths.append(current_run_length)\n",
        "    return run_lengths\n",
        "\n",
        "def simulate_experiment(n, p, min_run_length):\n",
        "    \"\"\"Simulate a Bernoulli trial experiment and check for runs of a certain minimum length.\"\"\"\n",
        "    trials = [1 if random.random() < p else 0 for _ in range(n)]\n",
        "    run_lengths = count_runs(trials)\n",
        "    return any(run >= min_run_length for run in run_lengths)\n",
        "\n",
        "def estimate_probability(n, p, min_run_length, num_simulations=100000):\n",
        "    \"\"\"Estimate the probability of observing at least one run of length `min_run_length` in `num_simulations` experiments.\"\"\"\n",
        "    count = sum(simulate_experiment(n, p, min_run_length) for _ in range(num_simulations))\n",
        "    return count / num_simulations\n",
        "\n",
        "# Parameters for the simulation\n",
        "n = 100  # Number of trials\n",
        "num_simulations = 100000  # Number of experiments\n",
        "\n",
        "# Estimate the probability for p = 0.5 and run length 5\n",
        "p1 = 0.5\n",
        "min_run_length1 = 5\n",
        "probability_run_5_or_more = estimate_probability(n, p1, min_run_length1, num_simulations)\n",
        "\n",
        "# Estimate the probability for p = 0.7 and run length 7\n",
        "p2 = 0.7\n",
        "min_run_length2 = 7\n",
        "probability_run_7_or_more = estimate_probability(n, p2, min_run_length2, num_simulations)\n",
        "\n",
        "print(f\"Probability of at least one run of length 5 or more ,p=0.5: {probability_run_5_or_more}\")\n",
        "print(f\"Probability of at least one run of length 7 or more , p=0.7: {probability_run_7_or_more}\")\n"
      ],
      "metadata": {
        "colab": {
          "base_uri": "https://localhost:8080/"
        },
        "id": "F8FdcSt0CdhB",
        "outputId": "846f04fb-99e6-44c5-9fb7-c8ce808d9d0f"
      },
      "execution_count": null,
      "outputs": [
        {
          "output_type": "stream",
          "name": "stdout",
          "text": [
            "Probability of at least one run of length 5 or more ,p=0.5: 0.80916\n",
            "Probability of at least one run of length 7 or more , p=0.7: 0.94956\n"
          ]
        }
      ]
    }
  ]
}